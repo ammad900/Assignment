{
 "cells": [
  {
   "cell_type": "code",
   "execution_count": null,
   "metadata": {},
   "outputs": [],
   "source": [
    "Question 1:\n",
    "\n",
    "Define Object Oriented Programming Language?\n",
    "\n",
    "Object-Oriented Programming Language: An OOPL (object-oriented programming language) is a programming language that is base\n",
    "on the object-oriented programming model explained above. Examples of object-oriented programming languages are C++, C#, \n",
    "Java, Python, Simula, and Smalltalk. When programming in an object-oriented programming language, you should keep the \n",
    "following four key concepts in mind. Encapsulation - The grouping of related functions and data (variables) together into an\n",
    "object to help reduce complexity and allow parts of the code to be reused. Abstraction - Show only the essentials to reduce \n",
    "the abstract of change. Inheritance - Eliminate redundant code by inheriting functions and data from other classes. \n",
    "Polymorphism - Change how an object function depending on the data or class.\n"
   ]
  },
  {
   "cell_type": "code",
   "execution_count": null,
   "metadata": {},
   "outputs": [],
   "source": [
    "Question 2:\n",
    "\n",
    "List down the Benefits of OOP?\n",
    "\n",
    "  Re-usability It means reusing some facilities rather than building it again and again. This is done with the use of a \n",
    "class. We can use it ‘n’ number of times as per our need.\n",
    "  Data Redundancy This is a condition created at the place of data storage (you can say Databases)where the same piece of \n",
    "data is held in two separate places. So the data redundancy is one of the greatest advantages of OOP. If a user wants a \n",
    "similar functionality in multiple classes he/she can go ahead by writing common class definitions for the similar \n",
    "functionalities and inherit them.\n",
    "  Code Maintenance This feature is more of a necessity for any programming languages, it helps users from doing re-work in \n",
    "many ways. It is always easy and time-saving to maintain and modify the existing codes with incorporating new changes into \n",
    "it.\n",
    "  Security With the use of data hiding and abstraction mechanism, we are filtering out limited data to exposure which means \n",
    "we are maintaining security and providing necessary data to view.\n",
    "\n",
    "  Design Benefits If you are practicing on OOPs the design benefit a user will get is in terms of designing and fixing \n",
    "things easily and eliminating the risks (if any). Here the Object Oriented Programs forces the designers to have a longer \n",
    "and extensive design phase, which results in better designs and fewer flaws. After a time when the program has reached some \n",
    "critical limits, it is easier to program all the non-OOP’s one separately.\n",
    "\n",
    "  Better productivity with the above-mentioned facts of using the application definitely enhances its users overall \n",
    "productivity. This leads to more work done, finish a better program, having more inbuilt features and easier to read, write \n",
    "and maintain. An OOP programmer cans stitch new software objects to make completely new programs. A good number of libraries \n",
    "with useful functions in abundance make it possible.\n",
    "\n",
    "  Easy troubleshooting lets witness some common issues or problems any developers face in their work. Is this the problem in \n",
    "the widget file? Is the problem is in the WhaleFlumper? Will I have to trudge through that ‘sewage.c’ file? Commenting on \n",
    "all these issues related to code. So, many a time it happens that something has gone wrong which later becomes so \n",
    "brainstorming for the developers to look where the error is. Relax! Working with OOP language you will know where to look \n",
    "for. This is the advantage of using encapsulation in OOP; all the objects are self-constrained. With this modality behavior, \n",
    "the IT teams get a lot of work benefits as they are now capable to work on multiple projects simultaneously with an advantage\n",
    "that there is no possibility of code duplicity.\n",
    "  Polymorphism Flexibility Let’s see a scenario to better explain this behavior.You behave in a different way if the place \n",
    "or surrounding gets change. A person will behave like a customer if he is in a market, the same person will behave like a \n",
    "student if he is in a school and as a son/daughter if put in a house. Here we can see that the same person showing different \n",
    "behavior every time the surroundings are changed. This means polymorphism is flexibility and helps developers in a number of \n",
    "ways. • It’s simplicity • Extensibility\n",
    "  Problems solving Decomposing a complex problem into smaller chunks or discrete components is a good practice. OOP is \n",
    "specialized in this behavior, as it breaks down your software code into bite-sized – one object at a time. In doing this the \n",
    "broken components can be reused in solutions to different other problems (both less and more complex) or either they can be \n",
    "replaced by the future modules which relate to the same interface with implementations details.\n"
   ]
  },
  {
   "cell_type": "code",
   "execution_count": null,
   "metadata": {},
   "outputs": [],
   "source": [
    "Question 3:\n",
    "\n",
    "Differentiate between function and method? Difference between method and function Method is called by its name, but it is \n",
    "associated to an object (dependent). A method is implicitly passed the object on which it is invoked. It may or may \n",
    "not return any data. A method can operate on the data (instance variables) that is contained by the corresponding class \n",
    "Function is block of code that is also called by its name. (Independent) The function can have different parameters or may \n",
    "not have any at all. If any data (parameters) are passed, they are passed explicitly. It may or may not return any data. \n",
    "Function does not deal with Class and its instance concept. Simply, function and method both look similar as they perform \n",
    "in almost similar way, but the key difference is the concept of ‘Class and its Object‘. Functions can be called only by its \n",
    "name, as it is defined independently. But methods can’t be called by its name only, we need to invoke the class by a \n",
    "reference of that class in which it is defined, i.e. method is defined within a class and hence they are dependent on that \n",
    "class.\n"
   ]
  },
  {
   "cell_type": "code",
   "execution_count": null,
   "metadata": {},
   "outputs": [],
   "source": [
    "Question 4:\n",
    "\n",
    "Define the following terms: Class A class is an entity that determines how an object will behave and what the object will \n",
    "    contain. In other words, it is a blueprint or a set of instruction to build a specific type of object.\n",
    "\n",
    "  Object An object is nothing but a self-contained component which consists of methods and properties to make a particular \n",
    "type of data useful. Object determines the behavior of the class. When you send a message to an object, you are asking the \n",
    "object to invoke or execute one of its methods.From a programming point of view, an object can be a data structure, a \n",
    "variable or a function. It has a memory location allocated. The object is designed as class hierarchies\n",
    "\n",
    "  Attribute Class attributes belong to the class itself they will be shared by all the instances. Such attributes are \n",
    "defined in the class body parts usually at the top, for legibility. Instance Attributes Unlike class attributes, instance \n",
    "attributes are not shared by objects. Every object has its own copy of the instance attribute (In case of class attributes \n",
    "all object refer to single copy).To list the attributes of an instance/object, we have two functions:-\n",
    "\n",
    "  vars()- This function displays the attribute of an instance in the form of an dictionary.\n",
    "\n",
    "  dir()- This function displays more attributes than vars function, as it is not limited to instance. It displays the class \n",
    "attributes as well.\n",
    "    \n",
    "Behavior A class's behavior determines how an instance of that class operates; for example, how it will \"react\" if asked to \n",
    "do something by another class or object or if its internal state changes. Behavior is the only way objects can do anything \n",
    "to themselves or have anything done to them.\n",
    "\n"
   ]
  },
  {
   "cell_type": "code",
   "execution_count": 2,
   "metadata": {},
   "outputs": [
    {
     "name": "stdout",
     "output_type": "stream",
     "text": [
      "Stieve blue 2012.\n",
      "Light golden  2018.\n"
     ]
    }
   ],
   "source": [
    "# Question 5\n",
    "class car:\n",
    "    def __init__(self, name):\n",
    "        self.name = name\n",
    "\n",
    "    def Honda(self):\n",
    "        print(self.name + \" blue 2012.\")\n",
    "\n",
    "    def KIA(self):\n",
    "        print(self.name + \" golden  2018.\")\n",
    "\n",
    "def main():\n",
    "    H = car(\"Stieve\")\n",
    "    H.Honda()\n",
    "    K = car(\"Light\")\n",
    "    K.KIA()\n",
    "\n",
    "if __name__ == \"__main__\":\n",
    "  main()"
   ]
  },
  {
   "cell_type": "code",
   "execution_count": null,
   "metadata": {},
   "outputs": [],
   "source": []
  }
 ],
 "metadata": {
  "kernelspec": {
   "display_name": "Python 3",
   "language": "python",
   "name": "python3"
  },
  "language_info": {
   "codemirror_mode": {
    "name": "ipython",
    "version": 3
   },
   "file_extension": ".py",
   "mimetype": "text/x-python",
   "name": "python",
   "nbconvert_exporter": "python",
   "pygments_lexer": "ipython3",
   "version": "3.7.1"
  }
 },
 "nbformat": 4,
 "nbformat_minor": 2
}
