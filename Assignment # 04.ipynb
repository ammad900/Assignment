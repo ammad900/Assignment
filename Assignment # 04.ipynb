{
 "cells": [
  {
   "cell_type": "code",
   "execution_count": 10,
   "metadata": {},
   "outputs": [
    {
     "name": "stdout",
     "output_type": "stream",
     "text": [
      "{'First_Name': 'Ammad', 'Last_Name': 'Ahmed', 'Age': '25', 'City': 'Karachi'}\n",
      "{'Qualification': 'B.Com From AIOU'}\n",
      "{}\n"
     ]
    }
   ],
   "source": [
    "# 01\n",
    "\n",
    "Person = {\"First_Name\" : \"Ammad\",\"Last_Name\" : \"Ahmed\",\"Age\" : \"25\",\"City\" : \"Karachi\"}\n",
    "print(Person)\n",
    "     \n",
    "Person = {\"Qualification\" : \"B.Com From AIOU\"}\n",
    "print(Person)\n",
    "    \n",
    "Person[\"Qualification\"] = \"B.Com From AIOU\"\n",
    "del Person[\"Qualification\"]\n",
    "print(Person)"
   ]
  },
  {
   "cell_type": "code",
   "execution_count": 9,
   "metadata": {},
   "outputs": [
    {
     "name": "stdout",
     "output_type": "stream",
     "text": [
      "City : Karachi\n",
      "{'Country': 'Pakistan', 'Fact': 'It is the Sixth largest city in the world by city population', 'Population': '14.91 million'} \n",
      "\n",
      "City : London\n",
      "{'Country': 'UK', 'Fact': 'The Romans were the first to make London their home', 'Population': '8.9 million'} \n",
      "\n",
      "City : New York City\n",
      "{'Country': 'USA', 'Fact': 'More than 800 languages are spoken in New York City', 'Population': '8 million'} \n",
      "\n"
     ]
    }
   ],
   "source": [
    "# 02\n",
    "\n",
    "Cities = {\n",
    "     \"Karachi\" : { \n",
    "     \"Country\" : \"Pakistan\",\n",
    "     \"Fact\" : \"It is the Sixth largest city in the world by city population\",\n",
    "     \"Population\" : \"14.91 million\"\n",
    "     },\n",
    "     \"London\" : {\n",
    "      \"Country\" : \"UK\",\n",
    "     \"Fact\" : \"The Romans were the first to make London their home\",\n",
    "     \"Population\" : \"8.9 million\"   \n",
    "     },\n",
    "     \"New York City\" : {\n",
    "     \"Country\" : \"USA\",\n",
    "     \"Fact\" : \"More than 800 languages are spoken in New York City\",\n",
    "     \"Population\" : \"8 million\"\n",
    "     }\n",
    "}\n",
    "for key,value in Cities.items():\n",
    "    print(\"City :\",key)\n",
    "    print(value,\"\\n\")"
   ]
  },
  {
   "cell_type": "code",
   "execution_count": 7,
   "metadata": {},
   "outputs": [
    {
     "name": "stdout",
     "output_type": "stream",
     "text": [
      "what is your age25\n",
      "your ticket is $15\n"
     ]
    }
   ],
   "source": [
    "# 03\n",
    "\n",
    "for i in range(3):\n",
    "    age = int(input(\"what is your age\"))\n",
    "    if age <=3:\n",
    "        print(\"your ticket is free\")\n",
    "        break\n",
    "    if age >3 and age <=12:\n",
    "        print(\"your ticket is $10\")\n",
    "        break\n",
    "    if age > 12:\n",
    "        print(\"your ticket is $15\")\n",
    "        break"
   ]
  },
  {
   "cell_type": "code",
   "execution_count": 8,
   "metadata": {},
   "outputs": [
    {
     "data": {
      "text/plain": [
       "('one of my favourite book is', 'Namaz Ki Fazilat')"
      ]
     },
     "execution_count": 8,
     "metadata": {},
     "output_type": "execute_result"
    }
   ],
   "source": [
    "# 04\n",
    "\n",
    "def favourite_book(book):\n",
    "        return \"one of my favourite book is\",book\n",
    "favourite_book('Namaz Ki Fazilat')"
   ]
  },
  {
   "cell_type": "code",
   "execution_count": 6,
   "metadata": {},
   "outputs": [
    {
     "name": "stdout",
     "output_type": "stream",
     "text": [
      "Enter the Guess Number: 18\n",
      "You Guess Higher Number\n",
      "Computer's Guess Number:  12\n",
      "Enter the Guess Number: 25\n",
      "You Guess Higher Number\n",
      "Computer's Guess Number:  20\n",
      "Enter the Guess Number: 61\n",
      "You Guess Higher Number\n",
      "Computer's Guess Number:  19\n"
     ]
    }
   ],
   "source": [
    "# 05\n",
    "\n",
    "import random\n",
    "count = 0\n",
    "while count < 3:\n",
    "    guess = int(input(\"Enter the Guess Number: \"))\n",
    "    count += 1\n",
    "    rand = random.randint(1,30)\n",
    "    if guess == rand:\n",
    "        print(\"You Guess Correct Number\")\n",
    "    elif guess > rand:\n",
    "        print(\"You Guess Higher Number\")\n",
    "    elif guess < rand:\n",
    "        print(\"You Guess Lower Number\")\n",
    "    print(\"Computer's Guess Number: \",rand)"
   ]
  },
  {
   "cell_type": "code",
   "execution_count": null,
   "metadata": {},
   "outputs": [],
   "source": []
  }
 ],
 "metadata": {
  "kernelspec": {
   "display_name": "Python 3",
   "language": "python",
   "name": "python3"
  },
  "language_info": {
   "codemirror_mode": {
    "name": "ipython",
    "version": 3
   },
   "file_extension": ".py",
   "mimetype": "text/x-python",
   "name": "python",
   "nbconvert_exporter": "python",
   "pygments_lexer": "ipython3",
   "version": "3.7.1"
  }
 },
 "nbformat": 4,
 "nbformat_minor": 2
}
