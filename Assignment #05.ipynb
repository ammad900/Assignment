{
 "cells": [
  {
   "cell_type": "code",
   "execution_count": 3,
   "metadata": {},
   "outputs": [
    {
     "name": "stdout",
     "output_type": "stream",
     "text": [
      "Input a number to compute the factiorial : 4\n",
      "24\n"
     ]
    }
   ],
   "source": [
    "# 01-Write a Python function to calculate the factorial of a number (a non-negative\n",
    "# integer). The function accepts the number as an argument.\n",
    "\n",
    "def factorial(n):\n",
    "    if n == 0:\n",
    "        return 1\n",
    "    else:\n",
    "        return n * factorial(n-1)\n",
    "n=int(input(\"Input a number to compute the factiorial : \"))\n",
    "print(factorial(n))"
   ]
  },
  {
   "cell_type": "code",
   "execution_count": 9,
   "metadata": {},
   "outputs": [
    {
     "name": "stdout",
     "output_type": "stream",
     "text": [
      "No. of Upper case characters : 0,No. of Lower case characters : 18\n"
     ]
    }
   ],
   "source": [
    "# 02-Write a Python function that accepts a string and calculate the number of upper\n",
    "# case letters and lower case letters.\n",
    "\n",
    "def string(s):      \n",
    "    u = sum(1 for i in s if i.isupper())\n",
    "    l = sum(1 for i in s if i.islower())\n",
    "    print( \"No. of Upper case characters : %s,No. of Lower case characters : %s\" % (u,l))\n",
    "\n",
    "string(\"calculate the number\")"
   ]
  },
  {
   "cell_type": "code",
   "execution_count": 10,
   "metadata": {},
   "outputs": [
    {
     "name": "stdout",
     "output_type": "stream",
     "text": [
      "10 4 66 "
     ]
    }
   ],
   "source": [
    "# 03-Write a Python function to print the even numbers from a given list.\n",
    "\n",
    "list1 = [10, 21, 4, 45, 66, 93] \n",
    "   \n",
    "for num in list1: \n",
    "       \n",
    "    if num % 2 == 0: \n",
    "       print(num, end = \" \")"
   ]
  },
  {
   "cell_type": "code",
   "execution_count": 23,
   "metadata": {},
   "outputs": [
    {
     "name": "stdout",
     "output_type": "stream",
     "text": [
      "True\n"
     ]
    }
   ],
   "source": [
    "# 04-Write a Python function that checks whether a passed string is palindrome or not.\n",
    "\n",
    "def isPalindrome(string):\n",
    "    left_pos = 0\n",
    "    right_pos = len(string) - 1\n",
    "    \n",
    "    while right_pos >= left_pos:\n",
    "        if not string[left_pos] == string[right_pos]:\n",
    "            return False\n",
    "        left_pos += 1\n",
    "        right_pos -= 1\n",
    "        return True\n",
    "print(isPalindrome('aza'))"
   ]
  },
  {
   "cell_type": "code",
   "execution_count": 28,
   "metadata": {},
   "outputs": [
    {
     "name": "stdout",
     "output_type": "stream",
     "text": [
      "False\n"
     ]
    }
   ],
   "source": [
    "# 05-Write a Python function that takes a number as a parameter and check the\n",
    "# number is prime or not.\n",
    "\n",
    "def checkPrime(n):\n",
    "    if (n==1):\n",
    "        return False\n",
    "    elif (n==2):\n",
    "        return True;\n",
    "    else:\n",
    "        for x in range(2,n):\n",
    "            if(n % x==0):\n",
    "                return False\n",
    "        return True             \n",
    "print(checkPrime(4))"
   ]
  },
  {
   "cell_type": "code",
   "execution_count": null,
   "metadata": {},
   "outputs": [
    {
     "name": "stdout",
     "output_type": "stream",
     "text": [
      "Enter Shopping item [-1 to abort]: Paratha\n",
      "Enter Shopping item [-1 to abort]: Dry Fruit\n",
      "Enter Shopping item [-1 to abort]: Vegetables\n",
      "Enter Shopping item [-1 to abort]: Fruits\n",
      "Enter Shopping item [-1 to abort]: Garments\n"
     ]
    }
   ],
   "source": [
    "# 06-Suppose a customer is shopping in a market and you need to print all the items\n",
    "# which user bought from market.\n",
    "\n",
    "def shoppingList(*items):\n",
    "    shoppingItems = []\n",
    "    while True:\n",
    "        item = input(\"Enter Shopping item [-1 to abort]: \")\n",
    "        if item != '-1':\n",
    "            shoppingItems.append(item)\n",
    "        else:\n",
    "            break\n",
    "    for item in range(len(shoppingItems)):\n",
    "        print(\"You purchased: {}\".format(shoppingItems[item]))\n",
    "shoppingList()"
   ]
  },
  {
   "cell_type": "code",
   "execution_count": null,
   "metadata": {},
   "outputs": [],
   "source": []
  }
 ],
 "metadata": {
  "kernelspec": {
   "display_name": "Python 3",
   "language": "python",
   "name": "python3"
  },
  "language_info": {
   "codemirror_mode": {
    "name": "ipython",
    "version": 3
   },
   "file_extension": ".py",
   "mimetype": "text/x-python",
   "name": "python",
   "nbconvert_exporter": "python",
   "pygments_lexer": "ipython3",
   "version": "3.7.1"
  }
 },
 "nbformat": 4,
 "nbformat_minor": 2
}
